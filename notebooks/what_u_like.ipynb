{
 "cells": [
  {
   "cell_type": "code",
   "execution_count": 20,
   "metadata": {},
   "outputs": [],
   "source": [
    "import torch\n",
    "from glob import glob\n",
    "from ast import literal_eval\n",
    "import os\n",
    "\n",
    "import numpy as np\n",
    "import pandas as pd\n",
    "import matplotlib.pyplot as plt\n",
    "import seaborn as sns\n",
    "from typing import List\n",
    "from IPython.core.display import display, HTML\n",
    "from sklearn.manifold import TSNE\n",
    "from tqdm.notebook import tqdm"
   ]
  },
  {
   "cell_type": "code",
   "execution_count": 21,
   "metadata": {
    "pycharm": {
     "name": "#%%\n"
    }
   },
   "outputs": [
    {
     "data": {
      "text/plain": "<IPython.core.display.HTML object>",
      "text/html": "<style>#notebook { padding-top:0px; } .container { width:100%; } .end_space { min-height:0px; } </style>"
     },
     "metadata": {},
     "output_type": "display_data"
    },
    {
     "name": "stdout",
     "output_type": "stream",
     "text": [
      "device: cuda\n"
     ]
    }
   ],
   "source": [
    "pd.set_option('display.max_rows', 5000)\n",
    "pd.set_option('display.max_columns', 500)\n",
    "pd.set_option('display.width', 2000)\n",
    "\n",
    "plt.style.use('dark_background')\n",
    "\n",
    "display(HTML(\"<style>\"\n",
    "    + \"#notebook { padding-top:0px; } \" \"\"\n",
    "    + \".container { width:100%; } \"\n",
    "    + \".end_space { min-height:0px; } \"\n",
    "    + \"</style>\"))\n",
    "\n",
    "device = 'cuda' if torch.cuda.is_available() else 'cpu'\n",
    "print(f'device: {device}')"
   ]
  },
  {
   "cell_type": "code",
   "execution_count": 22,
   "metadata": {
    "pycharm": {
     "name": "#%%\n"
    }
   },
   "outputs": [],
   "source": [
    "def get_name_exp(exp: dict):\n",
    "    interesting_props = ['con_weight', 'spectral_buffer_size']\n",
    "    props = {}\n",
    "    for prop in interesting_props:\n",
    "        if prop in exp:\n",
    "            props[prop] = exp[prop]\n",
    "    if len(props) == 0: props = ''\n",
    "    return f'{exp[\"model\"]} {props}'\n",
    "\n",
    "def print_exp_info(exp: dict):\n",
    "    print(f'model: {get_name_exp(exp)}')\n",
    "    print({k: exp[k] for k in exp if k not in ['latents']})"
   ]
  },
  {
   "cell_type": "code",
   "execution_count": 23,
   "outputs": [],
   "source": [
    "def flatten_list(l: List[List[any]]) -> List[any]:\n",
    "    return [item for line in l for item in line]"
   ],
   "metadata": {
    "collapsed": false,
    "pycharm": {
     "name": "#%%\n"
    }
   }
  },
  {
   "cell_type": "code",
   "execution_count": 24,
   "metadata": {
    "pycharm": {
     "name": "#%%\n"
    }
   },
   "outputs": [],
   "source": [
    "# logs_path = 'C:\\\\Users\\\\emace\\\\AImageLab\\\\SRV-Continual\\\\results\\\\canomaly\\\\logs'\n",
    "logs_path = '/nas/softechict-nas-2/efrascaroli/mammoth-data/logs'\n",
    "# logs_path = '/nas/softechict-nas-1/rbenaglia/canomaly-data/logs'\n",
    "# logs_path = '../storage/logs'"
   ]
  },
  {
   "cell_type": "code",
   "execution_count": 25,
   "metadata": {
    "pycharm": {
     "name": "#%%\n"
    }
   },
   "outputs": [
    {
     "name": "stdout",
     "output_type": "stream",
     "text": [
      "/nas/softechict-nas-2/efrascaroli/mammoth-data/logs/seq-cifar10/er_ace_con/results.pyd\n",
      "Env: ['seq-cifar10', 'er_ace_con', 'results.pyd']\n",
      "/nas/softechict-nas-2/efrascaroli/mammoth-data/logs/seq-cifar10/er_ace_con/res1.pyd\n",
      "Env: ['seq-cifar10', 'er_ace_con', 'res1.pyd']\n",
      "/nas/softechict-nas-2/efrascaroli/mammoth-data/logs/seq-cifar10/er_ace_con_pre/results.pyd\n",
      "Env: ['seq-cifar10', 'er_ace_con_pre', 'results.pyd']\n",
      "/nas/softechict-nas-2/efrascaroli/mammoth-data/logs/seq-cifar10/er_ace_con_pre/res100.pyd\n",
      "Env: ['seq-cifar10', 'er_ace_con_pre', 'res100.pyd']\n",
      "/nas/softechict-nas-2/efrascaroli/mammoth-data/logs/seq-cifar100-10x10/er_ace_con/res1.pyd\n",
      "Env: ['seq-cifar100-10x10', 'er_ace_con', 'res1.pyd']\n"
     ]
    }
   ],
   "source": [
    "exp_list = []\n",
    "environments = []\n",
    "for log_file in glob(logs_path + '/**/*ace*/*res*.pyd', recursive=True):\n",
    "    print(log_file)\n",
    "    with open(log_file, 'r') as f:\n",
    "        props_list = [prop for prop in log_file.replace(logs_path, '').split('/')[1:]]\n",
    "        print(f'Env: {props_list}')\n",
    "        props = props_list\n",
    "        exps = []\n",
    "        for i, line in enumerate(f.readlines()):\n",
    "            try:\n",
    "                exps.append(literal_eval(line.replace('nan', 'None')))\n",
    "            except:\n",
    "                print(f'Unparsed line {i}:\\n\\t{exps[:-1]}\\n-->\\t{line}')\n",
    "\n",
    "        environments.append({'env': props, 'exps': exps})\n",
    "\n",
    "        exp_list.extend(exps)"
   ]
  },
  {
   "cell_type": "code",
   "execution_count": 26,
   "metadata": {
    "pycharm": {
     "name": "#%%\n"
    }
   },
   "outputs": [
    {
     "name": "stdout",
     "output_type": "stream",
     "text": [
      "Total exps: 156\n"
     ]
    }
   ],
   "source": [
    "print(f'Total exps: {len(exp_list)}')\n",
    "# exp_list[0]['results']"
   ]
  },
  {
   "cell_type": "code",
   "execution_count": 27,
   "outputs": [
    {
     "name": "stdout",
     "output_type": "stream",
     "text": [
      "['seq-cifar10', 'er_ace_con', 'results.pyd']\n"
     ]
    }
   ],
   "source": [
    "env = environments[0]\n",
    "print(env['env'])\n",
    "discriminant = 'con_weight'\n",
    "important_task = [2, 3, 4]\n",
    "results_dict = {}\n",
    "for idx, exp in enumerate(env['exps']):\n",
    "    dis = exp[discriminant]\n",
    "    if dis not in results_dict:\n",
    "        results_dict[dis] = {'n_exps': 0, 'exp_indexes': []}\n",
    "        for i in important_task:\n",
    "            results_dict[dis][f'CIL-{i}'] = []\n",
    "            results_dict[dis][f'TIL-{i}'] = []\n",
    "            results_dict[dis][f'ConE-{i}'] = []\n",
    "    results_dict[dis]['n_exps'] += 1\n",
    "    results_dict[dis]['exp_indexes'].append(idx)\n",
    "    for i in important_task:\n",
    "        results_dict[dis][f'CIL-{i}'].append(exp['results'][i-1]['Class-IL mean'])\n",
    "        results_dict[dis][f'TIL-{i}'].append(exp['results'][i-1]['Task-IL mean'])\n",
    "        results_dict[dis][f'ConE-{i}'].append(exp['results'][i-1]['Con-Error'])"
   ],
   "metadata": {
    "collapsed": false,
    "pycharm": {
     "name": "#%%\n"
    }
   }
  },
  {
   "cell_type": "code",
   "execution_count": 28,
   "outputs": [
    {
     "name": "stdout",
     "output_type": "stream",
     "text": [
      "con weight: 0.1 | exps(5): [0, 7, 11, 16, 18]\n",
      "\n"
     ]
    },
    {
     "data": {
      "text/plain": "            Class-IL       Task-IL     Con-Error\nTask 2  58.10 ± 4.70  73.22 ± 4.19  24.26 ± 1.00\nTask 3  47.71 ± 3.33  76.72 ± 3.34  23.16 ± 0.43\nTask 4  41.77 ± 3.39  77.02 ± 2.31  21.47 ± 0.67",
      "text/html": "<div>\n<style scoped>\n    .dataframe tbody tr th:only-of-type {\n        vertical-align: middle;\n    }\n\n    .dataframe tbody tr th {\n        vertical-align: top;\n    }\n\n    .dataframe thead th {\n        text-align: right;\n    }\n</style>\n<table border=\"1\" class=\"dataframe\">\n  <thead>\n    <tr style=\"text-align: right;\">\n      <th></th>\n      <th>Class-IL</th>\n      <th>Task-IL</th>\n      <th>Con-Error</th>\n    </tr>\n  </thead>\n  <tbody>\n    <tr>\n      <th>Task 2</th>\n      <td>58.10 ± 4.70</td>\n      <td>73.22 ± 4.19</td>\n      <td>24.26 ± 1.00</td>\n    </tr>\n    <tr>\n      <th>Task 3</th>\n      <td>47.71 ± 3.33</td>\n      <td>76.72 ± 3.34</td>\n      <td>23.16 ± 0.43</td>\n    </tr>\n    <tr>\n      <th>Task 4</th>\n      <td>41.77 ± 3.39</td>\n      <td>77.02 ± 2.31</td>\n      <td>21.47 ± 0.67</td>\n    </tr>\n  </tbody>\n</table>\n</div>"
     },
     "metadata": {},
     "output_type": "display_data"
    },
    {
     "name": "stdout",
     "output_type": "stream",
     "text": [
      "con weight: 0.001 | exps(5): [1, 4, 8, 12, 15]\n",
      "\n"
     ]
    },
    {
     "data": {
      "text/plain": "            Class-IL       Task-IL     Con-Error\nTask 2  79.90 ± 2.82  91.24 ± 0.98  23.96 ± 0.86\nTask 3  64.96 ± 2.70  90.24 ± 0.86  22.56 ± 0.78\nTask 4  60.64 ± 3.47  89.52 ± 1.66  21.29 ± 0.74",
      "text/html": "<div>\n<style scoped>\n    .dataframe tbody tr th:only-of-type {\n        vertical-align: middle;\n    }\n\n    .dataframe tbody tr th {\n        vertical-align: top;\n    }\n\n    .dataframe thead th {\n        text-align: right;\n    }\n</style>\n<table border=\"1\" class=\"dataframe\">\n  <thead>\n    <tr style=\"text-align: right;\">\n      <th></th>\n      <th>Class-IL</th>\n      <th>Task-IL</th>\n      <th>Con-Error</th>\n    </tr>\n  </thead>\n  <tbody>\n    <tr>\n      <th>Task 2</th>\n      <td>79.90 ± 2.82</td>\n      <td>91.24 ± 0.98</td>\n      <td>23.96 ± 0.86</td>\n    </tr>\n    <tr>\n      <th>Task 3</th>\n      <td>64.96 ± 2.70</td>\n      <td>90.24 ± 0.86</td>\n      <td>22.56 ± 0.78</td>\n    </tr>\n    <tr>\n      <th>Task 4</th>\n      <td>60.64 ± 3.47</td>\n      <td>89.52 ± 1.66</td>\n      <td>21.29 ± 0.74</td>\n    </tr>\n  </tbody>\n</table>\n</div>"
     },
     "metadata": {},
     "output_type": "display_data"
    },
    {
     "name": "stdout",
     "output_type": "stream",
     "text": [
      "con weight: 0.01 | exps(5): [2, 5, 9, 13, 17]\n",
      "\n"
     ]
    },
    {
     "data": {
      "text/plain": "            Class-IL       Task-IL     Con-Error\nTask 2  80.25 ± 1.51  91.02 ± 0.75  22.78 ± 1.85\nTask 3  65.81 ± 2.81  90.42 ± 1.18  21.67 ± 0.61\nTask 4  61.70 ± 2.01  90.90 ± 0.67  20.75 ± 0.56",
      "text/html": "<div>\n<style scoped>\n    .dataframe tbody tr th:only-of-type {\n        vertical-align: middle;\n    }\n\n    .dataframe tbody tr th {\n        vertical-align: top;\n    }\n\n    .dataframe thead th {\n        text-align: right;\n    }\n</style>\n<table border=\"1\" class=\"dataframe\">\n  <thead>\n    <tr style=\"text-align: right;\">\n      <th></th>\n      <th>Class-IL</th>\n      <th>Task-IL</th>\n      <th>Con-Error</th>\n    </tr>\n  </thead>\n  <tbody>\n    <tr>\n      <th>Task 2</th>\n      <td>80.25 ± 1.51</td>\n      <td>91.02 ± 0.75</td>\n      <td>22.78 ± 1.85</td>\n    </tr>\n    <tr>\n      <th>Task 3</th>\n      <td>65.81 ± 2.81</td>\n      <td>90.42 ± 1.18</td>\n      <td>21.67 ± 0.61</td>\n    </tr>\n    <tr>\n      <th>Task 4</th>\n      <td>61.70 ± 2.01</td>\n      <td>90.90 ± 0.67</td>\n      <td>20.75 ± 0.56</td>\n    </tr>\n  </tbody>\n</table>\n</div>"
     },
     "metadata": {},
     "output_type": "display_data"
    },
    {
     "name": "stdout",
     "output_type": "stream",
     "text": [
      "con weight: 0.0 | exps(5): [3, 6, 10, 14, 19]\n",
      "\n"
     ]
    },
    {
     "data": {
      "text/plain": "            Class-IL       Task-IL     Con-Error\nTask 2  82.32 ± 1.38  91.92 ± 0.73  26.63 ± 0.95\nTask 3  66.85 ± 1.95  90.08 ± 0.91  25.58 ± 0.99\nTask 4  61.18 ± 1.39  90.22 ± 0.82  23.91 ± 1.21",
      "text/html": "<div>\n<style scoped>\n    .dataframe tbody tr th:only-of-type {\n        vertical-align: middle;\n    }\n\n    .dataframe tbody tr th {\n        vertical-align: top;\n    }\n\n    .dataframe thead th {\n        text-align: right;\n    }\n</style>\n<table border=\"1\" class=\"dataframe\">\n  <thead>\n    <tr style=\"text-align: right;\">\n      <th></th>\n      <th>Class-IL</th>\n      <th>Task-IL</th>\n      <th>Con-Error</th>\n    </tr>\n  </thead>\n  <tbody>\n    <tr>\n      <th>Task 2</th>\n      <td>82.32 ± 1.38</td>\n      <td>91.92 ± 0.73</td>\n      <td>26.63 ± 0.95</td>\n    </tr>\n    <tr>\n      <th>Task 3</th>\n      <td>66.85 ± 1.95</td>\n      <td>90.08 ± 0.91</td>\n      <td>25.58 ± 0.99</td>\n    </tr>\n    <tr>\n      <th>Task 4</th>\n      <td>61.18 ± 1.39</td>\n      <td>90.22 ± 0.82</td>\n      <td>23.91 ± 1.21</td>\n    </tr>\n  </tbody>\n</table>\n</div>"
     },
     "metadata": {},
     "output_type": "display_data"
    }
   ],
   "source": [
    "df = pd.DataFrame(index=[f'Task {i}' for i in important_task],\n",
    "                  columns=['Class-IL', 'Task-IL', 'Con-Error'])\n",
    "for dis in results_dict:\n",
    "    res = results_dict[dis]\n",
    "    print(f'con weight: {dis} | exps({res[\"n_exps\"]}): {res[\"exp_indexes\"]}\\n')\n",
    "    for i in important_task:\n",
    "        df.loc[f'Task {i}', 'Class-IL']     = f'{np.mean(res[f\"CIL-{i}\"]):.2f} ± {np.std(res[f\"CIL-{i}\"]):.2f}'\n",
    "        df.loc[f'Task {i}', 'Task-IL']      = f'{np.mean(res[f\"TIL-{i}\"]):.2f} ± {np.std(res[f\"TIL-{i}\"]):.2f}'\n",
    "        df.loc[f'Task {i}', 'Con-Error']    = f'{np.mean(res[f\"ConE-{i}\"]):.2f} ± {np.std(res[f\"ConE-{i}\"]):.2f}'\n",
    "    display(df)"
   ],
   "metadata": {
    "collapsed": false,
    "pycharm": {
     "name": "#%%\n"
    }
   }
  },
  {
   "cell_type": "code",
   "execution_count": 29,
   "outputs": [
    {
     "name": "stdout",
     "output_type": "stream",
     "text": [
      "['seq-cifar100-10x10', 'er_ace_con', 'res1.pyd']\n"
     ]
    }
   ],
   "source": [
    "env = environments[4]\n",
    "print(env['env'])\n",
    "discriminant = 'con_weight'\n",
    "important_task = [2]\n",
    "divide_accs = [1, 2]\n",
    "results_dict = {}\n",
    "for idx, exp in enumerate(env['exps']):\n",
    "    dis = exp[discriminant]\n",
    "    if dis not in results_dict:\n",
    "        results_dict[dis] = {'n_exps': 0, 'exp_indexes': [], 'Task-1': [], }\n",
    "        for i in divide_accs:\n",
    "            results_dict[dis][f'CIL-{i}'] = []\n",
    "            results_dict[dis][f'TIL-{i}'] = []\n",
    "            results_dict[dis][f'ConE-{i}'] = []\n",
    "    results_dict[dis]['n_exps'] += 1\n",
    "    results_dict[dis]['exp_indexes'].append(idx)\n",
    "    results_dict[dis]['Task-1'].append(exp['results'][0]['Class-IL'][0])\n",
    "    for i in important_task:\n",
    "        for j in divide_accs:\n",
    "            results_dict[dis][f'CIL-{j}'].append(exp['results'][i-1]['Class-IL'][j-1])\n",
    "            results_dict[dis][f'TIL-{j}'].append(exp['results'][i-1]['Task-IL'][j-1])\n",
    "            results_dict[dis][f'ConE-{j}'].append(exp['results'][i-1]['Con-Error'])"
   ],
   "metadata": {
    "collapsed": false,
    "pycharm": {
     "name": "#%%\n"
    }
   }
  },
  {
   "cell_type": "code",
   "execution_count": 30,
   "outputs": [
    {
     "name": "stdout",
     "output_type": "stream",
     "text": [
      "con weight: 0.0 | exps(6): [0, 1, 6, 7, 10, 11]\n",
      "Task-1: 76.97 ± 10.08\n"
     ]
    },
    {
     "data": {
      "text/plain": "            Class-IL       Task-IL     Con-Error\nTask 1  50.53 ± 3.11  67.98 ± 3.20  26.04 ± 1.40\nTask 2  70.90 ± 1.38  84.53 ± 1.53  26.04 ± 1.40",
      "text/html": "<div>\n<style scoped>\n    .dataframe tbody tr th:only-of-type {\n        vertical-align: middle;\n    }\n\n    .dataframe tbody tr th {\n        vertical-align: top;\n    }\n\n    .dataframe thead th {\n        text-align: right;\n    }\n</style>\n<table border=\"1\" class=\"dataframe\">\n  <thead>\n    <tr style=\"text-align: right;\">\n      <th></th>\n      <th>Class-IL</th>\n      <th>Task-IL</th>\n      <th>Con-Error</th>\n    </tr>\n  </thead>\n  <tbody>\n    <tr>\n      <th>Task 1</th>\n      <td>50.53 ± 3.11</td>\n      <td>67.98 ± 3.20</td>\n      <td>26.04 ± 1.40</td>\n    </tr>\n    <tr>\n      <th>Task 2</th>\n      <td>70.90 ± 1.38</td>\n      <td>84.53 ± 1.53</td>\n      <td>26.04 ± 1.40</td>\n    </tr>\n  </tbody>\n</table>\n</div>"
     },
     "metadata": {},
     "output_type": "display_data"
    },
    {
     "name": "stdout",
     "output_type": "stream",
     "text": [
      "con weight: 0.001 | exps(5): [2, 4, 8, 12, 15]\n",
      "Task-1: 80.96 ± 3.42\n"
     ]
    },
    {
     "data": {
      "text/plain": "            Class-IL       Task-IL     Con-Error\nTask 1  50.68 ± 6.49  69.70 ± 2.09  17.75 ± 0.92\nTask 2  68.76 ± 4.33  83.86 ± 2.83  17.75 ± 0.92",
      "text/html": "<div>\n<style scoped>\n    .dataframe tbody tr th:only-of-type {\n        vertical-align: middle;\n    }\n\n    .dataframe tbody tr th {\n        vertical-align: top;\n    }\n\n    .dataframe thead th {\n        text-align: right;\n    }\n</style>\n<table border=\"1\" class=\"dataframe\">\n  <thead>\n    <tr style=\"text-align: right;\">\n      <th></th>\n      <th>Class-IL</th>\n      <th>Task-IL</th>\n      <th>Con-Error</th>\n    </tr>\n  </thead>\n  <tbody>\n    <tr>\n      <th>Task 1</th>\n      <td>50.68 ± 6.49</td>\n      <td>69.70 ± 2.09</td>\n      <td>17.75 ± 0.92</td>\n    </tr>\n    <tr>\n      <th>Task 2</th>\n      <td>68.76 ± 4.33</td>\n      <td>83.86 ± 2.83</td>\n      <td>17.75 ± 0.92</td>\n    </tr>\n  </tbody>\n</table>\n</div>"
     },
     "metadata": {},
     "output_type": "display_data"
    },
    {
     "name": "stdout",
     "output_type": "stream",
     "text": [
      "con weight: 0.01 | exps(5): [3, 5, 9, 13, 14]\n",
      "Task-1: 74.18 ± 8.31\n"
     ]
    },
    {
     "data": {
      "text/plain": "            Class-IL       Task-IL     Con-Error\nTask 1  53.60 ± 2.64  70.66 ± 3.05  16.63 ± 1.74\nTask 2  68.78 ± 4.55  84.12 ± 1.27  16.63 ± 1.74",
      "text/html": "<div>\n<style scoped>\n    .dataframe tbody tr th:only-of-type {\n        vertical-align: middle;\n    }\n\n    .dataframe tbody tr th {\n        vertical-align: top;\n    }\n\n    .dataframe thead th {\n        text-align: right;\n    }\n</style>\n<table border=\"1\" class=\"dataframe\">\n  <thead>\n    <tr style=\"text-align: right;\">\n      <th></th>\n      <th>Class-IL</th>\n      <th>Task-IL</th>\n      <th>Con-Error</th>\n    </tr>\n  </thead>\n  <tbody>\n    <tr>\n      <th>Task 1</th>\n      <td>53.60 ± 2.64</td>\n      <td>70.66 ± 3.05</td>\n      <td>16.63 ± 1.74</td>\n    </tr>\n    <tr>\n      <th>Task 2</th>\n      <td>68.78 ± 4.55</td>\n      <td>84.12 ± 1.27</td>\n      <td>16.63 ± 1.74</td>\n    </tr>\n  </tbody>\n</table>\n</div>"
     },
     "metadata": {},
     "output_type": "display_data"
    }
   ],
   "source": [
    "df = pd.DataFrame(index=[f'Task {i}' for i in divide_accs],\n",
    "                  columns=['Class-IL', 'Task-IL', 'Con-Error'])\n",
    "for dis in results_dict:\n",
    "    res = results_dict[dis]\n",
    "    print(f'con weight: {dis} | exps({res[\"n_exps\"]}): {res[\"exp_indexes\"]}\\n'\n",
    "          f'Task-1: {np.mean(res[f\"Task-1\"]):.2f} ± {np.std(res[f\"Task-1\"]):.2f}')\n",
    "    for i in divide_accs:\n",
    "        df.loc[f'Task {i}', 'Class-IL']     = f'{np.mean(res[f\"CIL-{i}\"]):.2f} ± {np.std(res[f\"CIL-{i}\"]):.2f}'\n",
    "        df.loc[f'Task {i}', 'Task-IL']      = f'{np.mean(res[f\"TIL-{i}\"]):.2f} ± {np.std(res[f\"TIL-{i}\"]):.2f}'\n",
    "        df.loc[f'Task {i}', 'Con-Error']    = f'{np.mean(res[f\"ConE-{i}\"]):.2f} ± {np.std(res[f\"ConE-{i}\"]):.2f}'\n",
    "    display(df)"
   ],
   "metadata": {
    "collapsed": false,
    "pycharm": {
     "name": "#%%\n"
    }
   }
  },
  {
   "cell_type": "code",
   "execution_count": 31,
   "outputs": [
    {
     "name": "stdout",
     "output_type": "stream",
     "text": [
      "['seq-cifar10', 'er_ace_con_pre', 'res100.pyd']\n"
     ]
    }
   ],
   "source": [
    "\n",
    "env = environments[3]\n",
    "print(env['env'])\n",
    "important_task = [2, 3, 4, 5]\n",
    "divide_accs = [1, 2]\n",
    "results_dict = {}\n",
    "for idx, exp in enumerate(env['exps']):\n",
    "    dis = get_name_exp(exp)\n",
    "    if dis not in results_dict:\n",
    "        results_dict[dis] = {'n_exps': 0, 'exp_indexes': []}\n",
    "        for i in important_task:\n",
    "            results_dict[dis][f'CIL-{i}'] = []\n",
    "            results_dict[dis][f'TIL-{i}'] = []\n",
    "            results_dict[dis][f'ConE-{i}'] = []\n",
    "            results_dict[dis][f'C100-{i}'] = []\n",
    "    results_dict[dis]['n_exps'] += 1\n",
    "    results_dict[dis]['exp_indexes'].append(idx)\n",
    "    for i in important_task:\n",
    "        results_dict[dis][f'CIL-{i}'].append(exp['results'][i-1]['Class-IL mean'])\n",
    "        results_dict[dis][f'TIL-{i}'].append(exp['results'][i-1]['Task-IL mean'])\n",
    "        results_dict[dis][f'ConE-{i}'].append(exp['results'][i-1]['Con-Error'])\n",
    "        results_dict[dis][f'C100-{i}'].append(exp['results'][i-1]['Cifar100-acc'] * 100)"
   ],
   "metadata": {
    "collapsed": false,
    "pycharm": {
     "name": "#%%\n"
    }
   }
  },
  {
   "cell_type": "code",
   "execution_count": 32,
   "outputs": [
    {
     "name": "stdout",
     "output_type": "stream",
     "text": [
      "| er_ace_con_pre {'con_weight': 0.0, 'spectral_buffer_size': 100} | exps(5): [0, 4, 9, 12, 16]\n",
      "\n"
     ]
    },
    {
     "data": {
      "text/plain": "            Class-IL       Task-IL     Con-Error          C100\nTask 2  89.32 ± 2.05  96.08 ± 1.39  25.91 ± 0.47  59.29 ± 0.50\nTask 3  77.84 ± 1.06  95.33 ± 0.58  28.02 ± 0.16  55.06 ± 0.47\nTask 4  74.40 ± 1.45  95.68 ± 0.52  27.81 ± 0.30  54.27 ± 0.43\nTask 5  67.92 ± 1.25  94.97 ± 0.47  26.56 ± 0.35  51.24 ± 0.53",
      "text/html": "<div>\n<style scoped>\n    .dataframe tbody tr th:only-of-type {\n        vertical-align: middle;\n    }\n\n    .dataframe tbody tr th {\n        vertical-align: top;\n    }\n\n    .dataframe thead th {\n        text-align: right;\n    }\n</style>\n<table border=\"1\" class=\"dataframe\">\n  <thead>\n    <tr style=\"text-align: right;\">\n      <th></th>\n      <th>Class-IL</th>\n      <th>Task-IL</th>\n      <th>Con-Error</th>\n      <th>C100</th>\n    </tr>\n  </thead>\n  <tbody>\n    <tr>\n      <th>Task 2</th>\n      <td>89.32 ± 2.05</td>\n      <td>96.08 ± 1.39</td>\n      <td>25.91 ± 0.47</td>\n      <td>59.29 ± 0.50</td>\n    </tr>\n    <tr>\n      <th>Task 3</th>\n      <td>77.84 ± 1.06</td>\n      <td>95.33 ± 0.58</td>\n      <td>28.02 ± 0.16</td>\n      <td>55.06 ± 0.47</td>\n    </tr>\n    <tr>\n      <th>Task 4</th>\n      <td>74.40 ± 1.45</td>\n      <td>95.68 ± 0.52</td>\n      <td>27.81 ± 0.30</td>\n      <td>54.27 ± 0.43</td>\n    </tr>\n    <tr>\n      <th>Task 5</th>\n      <td>67.92 ± 1.25</td>\n      <td>94.97 ± 0.47</td>\n      <td>26.56 ± 0.35</td>\n      <td>51.24 ± 0.53</td>\n    </tr>\n  </tbody>\n</table>\n</div>"
     },
     "metadata": {},
     "output_type": "display_data"
    },
    {
     "name": "stdout",
     "output_type": "stream",
     "text": [
      "| er_ace_con_pre {'con_weight': 0.01, 'spectral_buffer_size': 100} | exps(5): [1, 6, 10, 14, 17]\n",
      "\n"
     ]
    },
    {
     "data": {
      "text/plain": "            Class-IL       Task-IL     Con-Error          C100\nTask 2  89.42 ± 1.14  96.34 ± 0.26  16.99 ± 1.75  59.30 ± 0.51\nTask 3  78.90 ± 0.35  95.45 ± 0.12  19.70 ± 1.64  55.93 ± 0.57\nTask 4  75.09 ± 0.46  95.82 ± 0.44  20.32 ± 1.39  55.00 ± 0.83\nTask 5  68.64 ± 0.71  94.87 ± 0.59  20.54 ± 0.86  52.09 ± 0.57",
      "text/html": "<div>\n<style scoped>\n    .dataframe tbody tr th:only-of-type {\n        vertical-align: middle;\n    }\n\n    .dataframe tbody tr th {\n        vertical-align: top;\n    }\n\n    .dataframe thead th {\n        text-align: right;\n    }\n</style>\n<table border=\"1\" class=\"dataframe\">\n  <thead>\n    <tr style=\"text-align: right;\">\n      <th></th>\n      <th>Class-IL</th>\n      <th>Task-IL</th>\n      <th>Con-Error</th>\n      <th>C100</th>\n    </tr>\n  </thead>\n  <tbody>\n    <tr>\n      <th>Task 2</th>\n      <td>89.42 ± 1.14</td>\n      <td>96.34 ± 0.26</td>\n      <td>16.99 ± 1.75</td>\n      <td>59.30 ± 0.51</td>\n    </tr>\n    <tr>\n      <th>Task 3</th>\n      <td>78.90 ± 0.35</td>\n      <td>95.45 ± 0.12</td>\n      <td>19.70 ± 1.64</td>\n      <td>55.93 ± 0.57</td>\n    </tr>\n    <tr>\n      <th>Task 4</th>\n      <td>75.09 ± 0.46</td>\n      <td>95.82 ± 0.44</td>\n      <td>20.32 ± 1.39</td>\n      <td>55.00 ± 0.83</td>\n    </tr>\n    <tr>\n      <th>Task 5</th>\n      <td>68.64 ± 0.71</td>\n      <td>94.87 ± 0.59</td>\n      <td>20.54 ± 0.86</td>\n      <td>52.09 ± 0.57</td>\n    </tr>\n  </tbody>\n</table>\n</div>"
     },
     "metadata": {},
     "output_type": "display_data"
    },
    {
     "name": "stdout",
     "output_type": "stream",
     "text": [
      "| er_ace_con_pre {'con_weight': 0.1, 'spectral_buffer_size': 100} | exps(5): [2, 5, 8, 13, 18]\n",
      "\n"
     ]
    },
    {
     "data": {
      "text/plain": "            Class-IL       Task-IL     Con-Error          C100\nTask 2  78.52 ± 3.34  89.52 ± 2.40  24.56 ± 0.56  17.35 ± 1.59\nTask 3  68.83 ± 2.88  91.14 ± 1.24  22.56 ± 0.22  24.44 ± 2.35\nTask 4  63.82 ± 3.78  91.32 ± 1.55  21.23 ± 0.12  26.60 ± 2.02\nTask 5  58.68 ± 4.57  91.25 ± 1.44  20.57 ± 0.07  27.34 ± 1.80",
      "text/html": "<div>\n<style scoped>\n    .dataframe tbody tr th:only-of-type {\n        vertical-align: middle;\n    }\n\n    .dataframe tbody tr th {\n        vertical-align: top;\n    }\n\n    .dataframe thead th {\n        text-align: right;\n    }\n</style>\n<table border=\"1\" class=\"dataframe\">\n  <thead>\n    <tr style=\"text-align: right;\">\n      <th></th>\n      <th>Class-IL</th>\n      <th>Task-IL</th>\n      <th>Con-Error</th>\n      <th>C100</th>\n    </tr>\n  </thead>\n  <tbody>\n    <tr>\n      <th>Task 2</th>\n      <td>78.52 ± 3.34</td>\n      <td>89.52 ± 2.40</td>\n      <td>24.56 ± 0.56</td>\n      <td>17.35 ± 1.59</td>\n    </tr>\n    <tr>\n      <th>Task 3</th>\n      <td>68.83 ± 2.88</td>\n      <td>91.14 ± 1.24</td>\n      <td>22.56 ± 0.22</td>\n      <td>24.44 ± 2.35</td>\n    </tr>\n    <tr>\n      <th>Task 4</th>\n      <td>63.82 ± 3.78</td>\n      <td>91.32 ± 1.55</td>\n      <td>21.23 ± 0.12</td>\n      <td>26.60 ± 2.02</td>\n    </tr>\n    <tr>\n      <th>Task 5</th>\n      <td>58.68 ± 4.57</td>\n      <td>91.25 ± 1.44</td>\n      <td>20.57 ± 0.07</td>\n      <td>27.34 ± 1.80</td>\n    </tr>\n  </tbody>\n</table>\n</div>"
     },
     "metadata": {},
     "output_type": "display_data"
    },
    {
     "name": "stdout",
     "output_type": "stream",
     "text": [
      "| er_ace_con_pre {'con_weight': 0.001, 'spectral_buffer_size': 100} | exps(5): [3, 7, 11, 15, 19]\n",
      "\n"
     ]
    },
    {
     "data": {
      "text/plain": "            Class-IL       Task-IL     Con-Error          C100\nTask 2  89.79 ± 0.59  96.30 ± 0.32  19.31 ± 1.11  59.41 ± 0.31\nTask 3  79.02 ± 0.89  95.44 ± 0.22  21.57 ± 0.63  56.11 ± 0.30\nTask 4  76.22 ± 0.51  95.66 ± 0.28  21.99 ± 0.67  54.92 ± 0.74\nTask 5  67.33 ± 0.67  94.81 ± 0.45  22.33 ± 0.68  52.10 ± 0.64",
      "text/html": "<div>\n<style scoped>\n    .dataframe tbody tr th:only-of-type {\n        vertical-align: middle;\n    }\n\n    .dataframe tbody tr th {\n        vertical-align: top;\n    }\n\n    .dataframe thead th {\n        text-align: right;\n    }\n</style>\n<table border=\"1\" class=\"dataframe\">\n  <thead>\n    <tr style=\"text-align: right;\">\n      <th></th>\n      <th>Class-IL</th>\n      <th>Task-IL</th>\n      <th>Con-Error</th>\n      <th>C100</th>\n    </tr>\n  </thead>\n  <tbody>\n    <tr>\n      <th>Task 2</th>\n      <td>89.79 ± 0.59</td>\n      <td>96.30 ± 0.32</td>\n      <td>19.31 ± 1.11</td>\n      <td>59.41 ± 0.31</td>\n    </tr>\n    <tr>\n      <th>Task 3</th>\n      <td>79.02 ± 0.89</td>\n      <td>95.44 ± 0.22</td>\n      <td>21.57 ± 0.63</td>\n      <td>56.11 ± 0.30</td>\n    </tr>\n    <tr>\n      <th>Task 4</th>\n      <td>76.22 ± 0.51</td>\n      <td>95.66 ± 0.28</td>\n      <td>21.99 ± 0.67</td>\n      <td>54.92 ± 0.74</td>\n    </tr>\n    <tr>\n      <th>Task 5</th>\n      <td>67.33 ± 0.67</td>\n      <td>94.81 ± 0.45</td>\n      <td>22.33 ± 0.68</td>\n      <td>52.10 ± 0.64</td>\n    </tr>\n  </tbody>\n</table>\n</div>"
     },
     "metadata": {},
     "output_type": "display_data"
    },
    {
     "name": "stdout",
     "output_type": "stream",
     "text": [
      "| er_ace_con_pre {'con_weight': 0.01, 'spectral_buffer_size': 1000} | exps(3): [20, 22, 24]\n",
      "\n"
     ]
    },
    {
     "data": {
      "text/plain": "            Class-IL       Task-IL     Con-Error          C100\nTask 2  90.86 ± 1.16  96.63 ± 0.53   7.45 ± 0.61  61.01 ± 0.24\nTask 3  79.07 ± 0.40  95.30 ± 0.20   9.78 ± 1.37  58.84 ± 0.36\nTask 4  75.59 ± 1.08  95.84 ± 0.24  12.04 ± 2.11  58.24 ± 0.34\nTask 5  71.02 ± 0.34  95.31 ± 0.14  13.47 ± 1.69  56.43 ± 0.32",
      "text/html": "<div>\n<style scoped>\n    .dataframe tbody tr th:only-of-type {\n        vertical-align: middle;\n    }\n\n    .dataframe tbody tr th {\n        vertical-align: top;\n    }\n\n    .dataframe thead th {\n        text-align: right;\n    }\n</style>\n<table border=\"1\" class=\"dataframe\">\n  <thead>\n    <tr style=\"text-align: right;\">\n      <th></th>\n      <th>Class-IL</th>\n      <th>Task-IL</th>\n      <th>Con-Error</th>\n      <th>C100</th>\n    </tr>\n  </thead>\n  <tbody>\n    <tr>\n      <th>Task 2</th>\n      <td>90.86 ± 1.16</td>\n      <td>96.63 ± 0.53</td>\n      <td>7.45 ± 0.61</td>\n      <td>61.01 ± 0.24</td>\n    </tr>\n    <tr>\n      <th>Task 3</th>\n      <td>79.07 ± 0.40</td>\n      <td>95.30 ± 0.20</td>\n      <td>9.78 ± 1.37</td>\n      <td>58.84 ± 0.36</td>\n    </tr>\n    <tr>\n      <th>Task 4</th>\n      <td>75.59 ± 1.08</td>\n      <td>95.84 ± 0.24</td>\n      <td>12.04 ± 2.11</td>\n      <td>58.24 ± 0.34</td>\n    </tr>\n    <tr>\n      <th>Task 5</th>\n      <td>71.02 ± 0.34</td>\n      <td>95.31 ± 0.14</td>\n      <td>13.47 ± 1.69</td>\n      <td>56.43 ± 0.32</td>\n    </tr>\n  </tbody>\n</table>\n</div>"
     },
     "metadata": {},
     "output_type": "display_data"
    },
    {
     "name": "stdout",
     "output_type": "stream",
     "text": [
      "| er_ace_con_pre {'con_weight': 0.001, 'spectral_buffer_size': 1000} | exps(3): [21, 23, 25]\n",
      "\n"
     ]
    },
    {
     "data": {
      "text/plain": "            Class-IL       Task-IL     Con-Error          C100\nTask 2  90.40 ± 0.34  96.79 ± 0.33   8.73 ± 0.39  60.20 ± 0.08\nTask 3  79.83 ± 0.25  95.78 ± 0.22  11.55 ± 0.23  58.15 ± 0.64\nTask 4  77.22 ± 0.71  96.31 ± 0.22  12.70 ± 0.64  58.72 ± 0.27\nTask 5  70.33 ± 0.66  95.53 ± 0.54  13.89 ± 0.70  55.24 ± 0.53",
      "text/html": "<div>\n<style scoped>\n    .dataframe tbody tr th:only-of-type {\n        vertical-align: middle;\n    }\n\n    .dataframe tbody tr th {\n        vertical-align: top;\n    }\n\n    .dataframe thead th {\n        text-align: right;\n    }\n</style>\n<table border=\"1\" class=\"dataframe\">\n  <thead>\n    <tr style=\"text-align: right;\">\n      <th></th>\n      <th>Class-IL</th>\n      <th>Task-IL</th>\n      <th>Con-Error</th>\n      <th>C100</th>\n    </tr>\n  </thead>\n  <tbody>\n    <tr>\n      <th>Task 2</th>\n      <td>90.40 ± 0.34</td>\n      <td>96.79 ± 0.33</td>\n      <td>8.73 ± 0.39</td>\n      <td>60.20 ± 0.08</td>\n    </tr>\n    <tr>\n      <th>Task 3</th>\n      <td>79.83 ± 0.25</td>\n      <td>95.78 ± 0.22</td>\n      <td>11.55 ± 0.23</td>\n      <td>58.15 ± 0.64</td>\n    </tr>\n    <tr>\n      <th>Task 4</th>\n      <td>77.22 ± 0.71</td>\n      <td>96.31 ± 0.22</td>\n      <td>12.70 ± 0.64</td>\n      <td>58.72 ± 0.27</td>\n    </tr>\n    <tr>\n      <th>Task 5</th>\n      <td>70.33 ± 0.66</td>\n      <td>95.53 ± 0.54</td>\n      <td>13.89 ± 0.70</td>\n      <td>55.24 ± 0.53</td>\n    </tr>\n  </tbody>\n</table>\n</div>"
     },
     "metadata": {},
     "output_type": "display_data"
    }
   ],
   "source": [
    "df = pd.DataFrame(index=[f'Task {i}' for i in important_task],\n",
    "                  columns=['Class-IL', 'Task-IL', 'Con-Error', 'C100'])\n",
    "for dis in results_dict:\n",
    "    res = results_dict[dis]\n",
    "    print(f'| {dis} | exps({res[\"n_exps\"]}): {res[\"exp_indexes\"]}\\n')\n",
    "    for i in important_task:\n",
    "        df.loc[f'Task {i}', 'Class-IL']     = f'{np.mean(res[f\"CIL-{i}\"]):.2f} ± {np.std(res[f\"CIL-{i}\"]):.2f}'\n",
    "        df.loc[f'Task {i}', 'Task-IL']      = f'{np.mean(res[f\"TIL-{i}\"]):.2f} ± {np.std(res[f\"TIL-{i}\"]):.2f}'\n",
    "        df.loc[f'Task {i}', 'Con-Error']    = f'{np.mean(res[f\"ConE-{i}\"]):.2f} ± {np.std(res[f\"ConE-{i}\"]):.2f}'\n",
    "        df.loc[f'Task {i}', 'C100']         = f'{np.mean(res[f\"C100-{i}\"]):.2f} ± {np.std(res[f\"C100-{i}\"]):.2f}'\n",
    "    display(df)"
   ],
   "metadata": {
    "collapsed": false,
    "pycharm": {
     "name": "#%%\n"
    }
   }
  },
  {
   "cell_type": "code",
   "execution_count": 32,
   "outputs": [],
   "source": [],
   "metadata": {
    "collapsed": false,
    "pycharm": {
     "name": "#%%\n"
    }
   }
  }
 ],
 "metadata": {
  "kernelspec": {
   "display_name": "Python 3",
   "language": "python",
   "name": "python3"
  },
  "language_info": {
   "codemirror_mode": {
    "name": "ipython",
    "version": 3
   },
   "file_extension": ".py",
   "mimetype": "text/x-python",
   "name": "python",
   "nbconvert_exporter": "python",
   "pygments_lexer": "ipython3",
   "version": "3.8.10"
  }
 },
 "nbformat": 4,
 "nbformat_minor": 1
}